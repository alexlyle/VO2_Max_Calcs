{
 "cells": [
  {
   "cell_type": "code",
   "execution_count": 15,
   "metadata": {},
   "outputs": [
    {
     "name": "stdout",
     "output_type": "stream",
     "text": [
      "Select Method:\n",
      " '1' for Simpson',\n",
      " '2' for Rockport',\n",
      " '3' for 'Brigham Young',\n",
      " '4' 'All', or \n",
      " 'Q' to quit \n",
      "Q\n"
     ]
    }
   ],
   "source": [
    "VO2_Max_Choices = [\"Simpson\",\"Rockport\",\"Brigham Young\",\"All\",\"Quit\"]\n",
    "\n",
    "Choice = input(\"Select Method:\\\n",
    "\\n '1' for Simpson',\\\n",
    "\\n '2' for Rockport',\\\n",
    "\\n '3' for 'Brigham Young',\\\n",
    "\\n '4' 'All', or \\\n",
    "\\n 'Q' to quit \\n\")\n",
    "\n",
    "Choice = Choice.title()\n",
    "\n",
    "while Choice.title() != \"Q\":\n",
    "    if Choice == '1':\n",
    "        HR_Max = int(input(\"Max HR: \"))\n",
    "        HR_Rest = int(input(\"Resting HR: \"))\n",
    "        VO2_Simp = 15*(HR_Max/HR_Rest)\n",
    "        VO2_Simp = round(VO2_Simp,2)\n",
    "        print(\"Simpson VO2 Max = \",VO2_Simp)\n",
    "        Choice = input(\"Make another selection or type 'Quit' \")\n",
    "        \n",
    "    elif Choice.title() == '2':\n",
    "        Weight = float(input(\"Weight in lbs: \"))\n",
    "        Age = float(input(\"Age: \"))\n",
    "        Gender = int(input(\"Gender (1 for male, 0 for female): \"))\n",
    "        One_Mi_Walk_Time = float(input(\"One mile walk time as fraction: \"))\n",
    "        HR_Walking = float(input(\"Heart Rate Walking: \"))\n",
    "        VO2_Rock = 132.853 - (.0769 * Weight) - (.3877 * Age) + \\\n",
    "        (6.315 * Gender) - (3.2649 * One_Mi_Walk_Time) - (.156 * HR_Walking)\n",
    "        VO2_Rock = round(VO2_Rock,2)\n",
    "        print('Rockport VO2 Max: ',VO2_Rock)\n",
    "        Choice = input(\"Make another selection or type 'Quit' \")\n",
    "        \n",
    "    elif Choice.title() == '3':\n",
    "        Weight = float(input(\"Weight in lbs: \")) #will convert to KG in formula\n",
    "        Run_time = float(input(\"Run time as fraction: \"))\n",
    "        HR_Run = int(input(\"Heart Rate Running: \"))\n",
    "        VO2_BY = 108.844 - (.1636 * Weight* .45) -\\\n",
    "        (1.438 * Run_time) - (.1928 * HR_Run)\n",
    "        VO2_BY = round(VO2_BY,2)\n",
    "        print('Brigham Young VO2 Max: ',VO2_BY)\n",
    "        Choice = input(\"Make another selection or type 'Quit' \")\n",
    "    \n",
    "    elif Choice.title() == 'All':\n",
    "        HR_Max = int(input(\"Max HR: \"))\n",
    "        HR_Rest = int(input(\"Resting HR: \"))\n",
    "        Weight = float(input(\"Weight in lbs: \"))\n",
    "        Age = float(input(\"Age: \"))\n",
    "        Gender = int(input(\"Gender (1 for male, 0 for female): \"))\n",
    "        One_Mi_Walk_Time = float(input(\"One mile walk time as decimal: \"))\n",
    "        HR_Walking = float(input(\"Heart Rate Walking: \"))\n",
    "        Run_time = float(input(\"Run time as decimal: \"))\n",
    "        HR_Run = int(input(\"Heart Rate Running: \"))\n",
    "        VO2_Simp = 15*(HR_Max/HR_Rest)\n",
    "        VO2_Simp = round(VO2_Simp,2)\n",
    "        print(\"Simpson VO2 Max = \",VO2_Simp)\n",
    "        VO2_Rock = 132.853 - (.0769 * Weight) - (.3877 * Age) + \\\n",
    "        (6.315 * Gender) - (3.2649 * One_Mi_Walk_Time) - (.156 * HR_Walking)\n",
    "        VO2_Rock = round(VO2_Rock,2)\n",
    "        print('Rockport VO2 Max: ',VO2_Rock)\n",
    "        VO2_BY = 108.844 - (.1636 * Weight* .45) -\\\n",
    "        (1.438 * Run_time) - (.1928 * HR_Run)\n",
    "        VO2_BY = round(VO2_BY,2)\n",
    "        print('Brigham Young VO2 Max: ',VO2_BY)\n",
    "        Choice = input(\"Make another selection or type 'Q' to quit \")\n",
    "        \n",
    "    elif Choice.title() == 'Q':\n",
    "        print(\"Good Bye\")\n",
    "        break\n",
    "        \n",
    "    else:\n",
    "        Choice = input(\"Verify spelling and reenter \")"
   ]
  },
  {
   "cell_type": "markdown",
   "metadata": {},
   "source": [
    "## Formulas were found at https://www.dexafit.com/blog2//how-to-calculate-vo2-max"
   ]
  },
  {
   "cell_type": "code",
   "execution_count": null,
   "metadata": {},
   "outputs": [],
   "source": []
  }
 ],
 "metadata": {
  "kernelspec": {
   "display_name": "Python 3",
   "language": "python",
   "name": "python3"
  },
  "language_info": {
   "codemirror_mode": {
    "name": "ipython",
    "version": 3
   },
   "file_extension": ".py",
   "mimetype": "text/x-python",
   "name": "python",
   "nbconvert_exporter": "python",
   "pygments_lexer": "ipython3",
   "version": "3.7.6"
  }
 },
 "nbformat": 4,
 "nbformat_minor": 4
}
